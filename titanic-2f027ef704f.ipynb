{
 "cells": [
  {
   "cell_type": "code",
   "execution_count": 1,
   "id": "2d587ff8",
   "metadata": {
    "_cell_guid": "b1076dfc-b9ad-4769-8c92-a6c4dae69d19",
    "_uuid": "8f2839f25d086af736a60e9eeb907d3b93b6e0e5",
    "execution": {
     "iopub.execute_input": "2025-06-05T20:20:39.330294Z",
     "iopub.status.busy": "2025-06-05T20:20:39.330074Z",
     "iopub.status.idle": "2025-06-05T20:20:40.822752Z",
     "shell.execute_reply": "2025-06-05T20:20:40.821741Z"
    },
    "papermill": {
     "duration": 1.496843,
     "end_time": "2025-06-05T20:20:40.823989",
     "exception": false,
     "start_time": "2025-06-05T20:20:39.327146",
     "status": "completed"
    },
    "tags": []
   },
   "outputs": [
    {
     "name": "stdout",
     "output_type": "stream",
     "text": [
      "/kaggle/input/titanic-2/train.csv\n",
      "/kaggle/input/titanic-2/test.csv\n",
      "/kaggle/input/titanic-2/gender_submission.csv\n"
     ]
    }
   ],
   "source": [
    "# This Python 3 environment comes with many helpful analytics libraries installed\n",
    "# It is defined by the kaggle/python Docker image: https://github.com/kaggle/docker-python\n",
    "# For example, here's several helpful packages to load\n",
    "\n",
    "import numpy as np # linear algebra\n",
    "import pandas as pd # data processing, CSV file I/O (e.g. pd.read_csv)\n",
    "\n",
    "# Input data files are available in the read-only \"../input/\" directory\n",
    "# For example, running this (by clicking run or pressing Shift+Enter) will list all files under the input directory\n",
    "\n",
    "import os\n",
    "for dirname, _, filenames in os.walk('/kaggle/input'):\n",
    "    for filename in filenames:\n",
    "        print(os.path.join(dirname, filename))\n",
    "\n",
    "# You can write up to 20GB to the current directory (/kaggle/working/) that gets preserved as output when you create a version using \"Save & Run All\" \n",
    "# You can also write temporary files to /kaggle/temp/, but they won't be saved outside of the current session"
   ]
  },
  {
   "cell_type": "code",
   "execution_count": 2,
   "id": "7d6f1b59",
   "metadata": {
    "execution": {
     "iopub.execute_input": "2025-06-05T20:20:40.829139Z",
     "iopub.status.busy": "2025-06-05T20:20:40.828391Z",
     "iopub.status.idle": "2025-06-05T20:20:40.865813Z",
     "shell.execute_reply": "2025-06-05T20:20:40.864639Z"
    },
    "papermill": {
     "duration": 0.041445,
     "end_time": "2025-06-05T20:20:40.867260",
     "exception": false,
     "start_time": "2025-06-05T20:20:40.825815",
     "status": "completed"
    },
    "tags": []
   },
   "outputs": [
    {
     "name": "stdout",
     "output_type": "stream",
     "text": [
      "PassengerId    0\n",
      "Survived       0\n",
      "Pclass         0\n",
      "Name           0\n",
      "Sex            0\n",
      "Age            0\n",
      "SibSp          0\n",
      "Parch          0\n",
      "Ticket         0\n",
      "Fare           0\n",
      "Embarked       0\n",
      "dtype: int64\n"
     ]
    }
   ],
   "source": [
    "\n",
    "train_df = pd.read_csv(\"/kaggle/input/titanic-2/train.csv\")\n",
    "\n",
    "train_df.drop(columns='Cabin', inplace=True)\n",
    "train_df['Age'] = train_df['Age'].fillna(train_df['Age'].median())\n",
    "train_df['Embarked'] = train_df['Embarked'].fillna(train_df['Embarked'].mode()[0])\n",
    "print(train_df.isnull().sum())\n"
   ]
  },
  {
   "cell_type": "code",
   "execution_count": 3,
   "id": "d70dca56",
   "metadata": {
    "execution": {
     "iopub.execute_input": "2025-06-05T20:20:40.871987Z",
     "iopub.status.busy": "2025-06-05T20:20:40.871081Z",
     "iopub.status.idle": "2025-06-05T20:20:40.893197Z",
     "shell.execute_reply": "2025-06-05T20:20:40.892225Z"
    },
    "papermill": {
     "duration": 0.025333,
     "end_time": "2025-06-05T20:20:40.894320",
     "exception": false,
     "start_time": "2025-06-05T20:20:40.868987",
     "status": "completed"
    },
    "tags": []
   },
   "outputs": [
    {
     "name": "stdout",
     "output_type": "stream",
     "text": [
      "   Pclass   Age  SibSp  Parch     Fare  Sex_male  Embarked_Q  Embarked_S\n",
      "0       3  22.0      1      0   7.2500      True       False        True\n",
      "1       1  38.0      1      0  71.2833     False       False       False\n",
      "2       3  26.0      0      0   7.9250     False       False        True\n",
      "3       1  35.0      1      0  53.1000     False       False        True\n",
      "4       3  35.0      0      0   8.0500      True       False        True\n"
     ]
    }
   ],
   "source": [
    "import pandas as pd\n",
    "\n",
    "# Load the cleaned dataset\n",
    "df = pd.read_csv(\"/kaggle/input/titanic-2/train.csv\")\n",
    "\n",
    "# Drop 'Cabin' and fill missing values if not done yet\n",
    "df.drop(columns=['Cabin'], inplace=True)\n",
    "df['Age'] = df['Age'].fillna(df['Age'].median())\n",
    "df['Embarked'] = df['Embarked'].fillna(df['Embarked'].mode()[0])\n",
    "\n",
    "# Select useful features\n",
    "features = ['Pclass', 'Sex', 'Age', 'SibSp', 'Parch', 'Fare', 'Embarked']\n",
    "X = df[features]\n",
    "y = df['Survived']\n",
    "\n",
    "# Convert categorical variables into numeric form using one-hot encoding\n",
    "X_encoded = pd.get_dummies(X, columns=['Sex', 'Embarked'], drop_first=True)\n",
    "\n",
    "# Now X_encoded is ready for training\n",
    "print(X_encoded.head())\n"
   ]
  },
  {
   "cell_type": "code",
   "execution_count": 4,
   "id": "9b323eef",
   "metadata": {
    "execution": {
     "iopub.execute_input": "2025-06-05T20:20:40.898022Z",
     "iopub.status.busy": "2025-06-05T20:20:40.897823Z",
     "iopub.status.idle": "2025-06-05T20:20:42.366499Z",
     "shell.execute_reply": "2025-06-05T20:20:42.365934Z"
    },
    "papermill": {
     "duration": 1.471886,
     "end_time": "2025-06-05T20:20:42.367781",
     "exception": false,
     "start_time": "2025-06-05T20:20:40.895895",
     "status": "completed"
    },
    "tags": []
   },
   "outputs": [
    {
     "name": "stdout",
     "output_type": "stream",
     "text": [
      "Accuracy: 0.8100558659217877\n",
      "\n",
      "Classification Report:\n",
      "               precision    recall  f1-score   support\n",
      "\n",
      "           0       0.83      0.86      0.84       105\n",
      "           1       0.79      0.74      0.76        74\n",
      "\n",
      "    accuracy                           0.81       179\n",
      "   macro avg       0.81      0.80      0.80       179\n",
      "weighted avg       0.81      0.81      0.81       179\n",
      "\n"
     ]
    }
   ],
   "source": [
    "from sklearn.model_selection import train_test_split\n",
    "from sklearn.linear_model import LogisticRegression\n",
    "from sklearn.metrics import accuracy_score, classification_report\n",
    "from sklearn.preprocessing import StandardScaler\n",
    "\n",
    "# Split the data: 80% training, 20% testing\n",
    "X_train, X_test, y_train, y_test = train_test_split(X_encoded, y, test_size=0.2, random_state=42)\n",
    "\n",
    "scaler = StandardScaler()\n",
    "X_train_scaled = scaler.fit_transform(X_train)\n",
    "X_test_scaled = scaler.transform(X_test)\n",
    "\n",
    "# Initialize and train logistic regression\n",
    "model = LogisticRegression(max_iter=200)\n",
    "model.fit(X_train_scaled, y_train)\n",
    "\n",
    "# Predict on test set\n",
    "y_pred = model.predict(X_test_scaled)\n",
    "\n",
    "# Evaluate the model\n",
    "print(\"Accuracy:\", accuracy_score(y_test, y_pred))\n",
    "print(\"\\nClassification Report:\\n\", classification_report(y_test, y_pred))\n"
   ]
  }
 ],
 "metadata": {
  "kaggle": {
   "accelerator": "none",
   "dataSources": [
    {
     "datasetId": 7520536,
     "sourceId": 11960407,
     "sourceType": "datasetVersion"
    }
   ],
   "dockerImageVersionId": 31040,
   "isGpuEnabled": false,
   "isInternetEnabled": false,
   "language": "python",
   "sourceType": "notebook"
  },
  "kernelspec": {
   "display_name": "Python 3",
   "language": "python",
   "name": "python3"
  },
  "language_info": {
   "codemirror_mode": {
    "name": "ipython",
    "version": 3
   },
   "file_extension": ".py",
   "mimetype": "text/x-python",
   "name": "python",
   "nbconvert_exporter": "python",
   "pygments_lexer": "ipython3",
   "version": "3.11.11"
  },
  "papermill": {
   "default_parameters": {},
   "duration": 7.327319,
   "end_time": "2025-06-05T20:20:42.886214",
   "environment_variables": {},
   "exception": null,
   "input_path": "__notebook__.ipynb",
   "output_path": "__notebook__.ipynb",
   "parameters": {},
   "start_time": "2025-06-05T20:20:35.558895",
   "version": "2.6.0"
  }
 },
 "nbformat": 4,
 "nbformat_minor": 5
}
